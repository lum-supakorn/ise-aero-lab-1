{
 "cells": [
  {
   "cell_type": "code",
   "execution_count": 4,
   "metadata": {},
   "outputs": [],
   "source": [
    "import pandas as pd\n",
    "import matplotlib.pyplot as plt\n",
    "import numpy as np\n",
    "\n",
    "%config InlineBackend.figure_format='retina'\n",
    "plt.rcParams['figure.figsize'] = (8, 6)"
   ]
  },
  {
   "cell_type": "code",
   "execution_count": 45,
   "metadata": {},
   "outputs": [],
   "source": [
    "class Experiment:\n",
    "    def __init__(self, y_u_data_file_path, params):\n",
    "        self.y_u_data = pd.read_csv(y_u_data_file_path)\n",
    "        \n",
    "        self.rho_kgpm3 = params['rho_kgpm3']\n",
    "        self.v_inf_mps = params['v_inf_mps']\n",
    "        self.y_loc_m = self.y_u_data['y'].values * 0.01\n",
    "        self.u_mps = self.y_u_data['u'].values\n",
    "        \n",
    "        self.w_CV_m = params['w_CV_m']\n",
    "        self.h_CV_m = self.y_loc_m[-1] - self.y_loc_m[0]\n",
    "        self.A_CV_m2 = self.w_CV_m * self.h_CV_m\n",
    "        \n",
    "        self.q_inf_Pa = params['q_inf_Pa']\n",
    "        self.dP_Pa = params['dP_Pa']\n",
    "        self.d_obj_m = params['d_obj_m']\n",
    "        self.A_obj_m2 = self.d_obj_m * self.w_CV_m\n",
    "        \n",
    "        # Drag calculation\n",
    "        M1x = self.rho_kgpm3 * (self.v_inf_mps ** 2) * self.A_CV_m2\n",
    "        M2x = self.w_CV_m * np.trapz(self.rho_kgpm3 * (self.u_mps ** 2), self.y_loc_m)\n",
    "        M_term = M1x - M2x\n",
    "        P_term = self.dP_Pa * self.A_CV_m2\n",
    "        self.drag_N = M_term + P_term\n",
    "        self.cd = self.drag_N / (self.q_inf_Pa * self.A_obj_m2)\n",
    "        \n",
    "    def wake_survey(self):\n",
    "        plt.plot(self.u_mps, self.y_loc_m, 'o')\n",
    "        plt.xlim(0, self.u_mps[-1] + 0.5)\n",
    "        plt.grid(alpha=0.3)\n",
    "        plt.title(\"Wake survey for HBR\")\n",
    "        plt.xlabel(\"u (m/s)\")\n",
    "        plt.ylabel(\"y-location (m)\")\n",
    "        \n",
    "        plt.show()\n",
    "        \n",
    "    def report_drag(self):\n",
    "        print(\"Drag: {} N\".format(self.drag_N))\n",
    "        print(\"cd: {}\".format(self.cd))"
   ]
  },
  {
   "cell_type": "code",
   "execution_count": 51,
   "metadata": {},
   "outputs": [
    {
     "name": "stdout",
     "output_type": "stream",
     "text": [
      "Drag: 1.64752946124 N\n",
      "cd: 2.023731915088061\n"
     ]
    }
   ],
   "source": [
    "HBR = Experiment(\n",
    "    'data/y_u_hbr.csv',\n",
    "    {\n",
    "        'rho_kgpm3': 1.1598,\n",
    "        'v_inf_mps': 10.56,\n",
    "        'w_CV_m': 0.3,\n",
    "        'q_inf_Pa': 64.55,\n",
    "        'dP_Pa': 11.74,\n",
    "        'd_obj_m': 0.04204\n",
    "    }\n",
    ")\n",
    "\n",
    "HBR.report_drag()"
   ]
  },
  {
   "cell_type": "code",
   "execution_count": 52,
   "metadata": {},
   "outputs": [
    {
     "name": "stdout",
     "output_type": "stream",
     "text": [
      "Drag: 3.8806749281099964 N\n",
      "cd: 2.162722111864553\n"
     ]
    }
   ],
   "source": [
    "LBR = Experiment(\n",
    "    'data/y_u_lbr.csv',\n",
    "    {\n",
    "        'rho_kgpm3': 1.158,\n",
    "        'v_inf_mps': 23.68,\n",
    "        'w_CV_m': 0.3,\n",
    "        'q_inf_Pa': 324.71,\n",
    "        'dP_Pa': 30.32,\n",
    "        'd_obj_m': 0.01842\n",
    "    }\n",
    ")\n",
    "\n",
    "LBR.report_drag()"
   ]
  }
 ],
 "metadata": {
  "kernelspec": {
   "display_name": "Python 3",
   "language": "python",
   "name": "python3"
  },
  "language_info": {
   "codemirror_mode": {
    "name": "ipython",
    "version": 3
   },
   "file_extension": ".py",
   "mimetype": "text/x-python",
   "name": "python",
   "nbconvert_exporter": "python",
   "pygments_lexer": "ipython3",
   "version": "3.7.5"
  }
 },
 "nbformat": 4,
 "nbformat_minor": 4
}
